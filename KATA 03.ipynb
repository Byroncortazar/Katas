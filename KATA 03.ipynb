{
 "cells": [
  {
   "cell_type": "markdown",
   "metadata": {},
   "source": [
    "KATA 03\n",
    "\n",
    "Ejercicio 1"
   ]
  },
  {
   "cell_type": "markdown",
   "metadata": {},
   "source": [
    "\n",
    "\n",
    "Para este ejercicio, escribirás una lógica condicional que imprima una advertencia si un asteroide se acerca a la Tierra demasiado rápido. La velocidad del asteroide varía dependiendo de lo cerca que esté del sol, y cualquier velocidad superior a 25 kilómetros por segundo (km/s) merece una advertencia.\n",
    "\n",
    "Un asteroide se acerca, y viaja a una velocidad de 49 km/s."
   ]
  },
  {
   "cell_type": "code",
   "execution_count": null,
   "metadata": {},
   "outputs": [],
   "source": [
    "# Añadir el código necesario para crear una variable que guarde la velocidad del asteroide.\n",
    "# Escribe una expresión de prueba para calcular si necesita una advertencia.\n",
    "# Agregue las instrucciones que se ejecutarán si la expresión de prueba es true o false."
   ]
  },
  {
   "cell_type": "markdown",
   "metadata": {},
   "source": [
    "Solución 01"
   ]
  },
  {
   "cell_type": "code",
   "execution_count": 192,
   "metadata": {},
   "outputs": [
    {
     "name": "stdout",
     "output_type": "stream",
     "text": [
      "ADVERTENCIA. ASTEORIDE ACERCÁNDOSE DEMASIADO RÁPIDO\n"
     ]
    }
   ],
   "source": [
    "velocidad_max_asteroide = 25\n",
    "velocidad_actual_asteroide = 49\n",
    "if velocidad_actual_asteroide > velocidad_max_asteroide:\n",
    "    print(\"ADVERTENCIA. ASTEORIDE ACERCÁNDOSE DEMASIADO RÁPIDO\")\n",
    "else:\n",
    "    print (\"No hay peligro\")\n"
   ]
  },
  {
   "cell_type": "markdown",
   "metadata": {},
   "source": [
    "Ejercicio 02\n",
    "\n",
    "Si un asteroide entra en la atmósfera de la Tierra a una velocidad mayor o igual a 20 km/s, a veces produce un rayo de luz que se puede ver desde la Tierra. Escribe la lógica condicional que usa declaraciones `if`, `else`, y `elif` para alertar a las personas de todo el mundo que deben buscar un asteroide en el cielo. ¡Hay uno que se dirige a la tierra ahora a una velocidad de 19 km/s!"
   ]
  },
  {
   "cell_type": "code",
   "execution_count": 193,
   "metadata": {},
   "outputs": [],
   "source": [
    "# Agrega el código para crear una variable para un asteroide que viaja a 19 km/s\n",
    "# Escribe varias expresiones de prueba para determinar si puedes ver el rayo de luz desde la tierra\n",
    "# Agrega las instrucciones que se ejecutarán si las expresiones de prueba son True o False"
   ]
  },
  {
   "cell_type": "markdown",
   "metadata": {},
   "source": [
    "Solución 02"
   ]
  },
  {
   "cell_type": "code",
   "execution_count": null,
   "metadata": {},
   "outputs": [],
   "source": [
    "vel_asteroide = 19\n",
    "if vel_asteroide == 20:\n",
    "    print (\"Se puede ver un asteroide en el cielo\")\n",
    "elif vel_asteroide > 20:\n",
    "    if vel_asteroide > 25:\n",
    "        print (\"PELIGRO. ASTEROIDE DIRIGIENDOSE A LA TIERRA DEMASIADO RÁPIDO\")\n",
    "    else:\n",
    "        print (\"Se puede ver un asteroide en el cielo a más de 20 km/s\")\n",
    "else:\n",
    "    print (\"No es posible ver asteroides\")"
   ]
  },
  {
   "cell_type": "markdown",
   "metadata": {},
   "source": [
    "Ejercicio 03"
   ]
  },
  {
   "cell_type": "markdown",
   "metadata": {},
   "source": [
    "*Los asteroides de menos de 25 metros en su dimensión más grande probablemente se quemarán a medida que entren en la atmósfera de la Tierra.\n",
    "* Si una pieza de un asteroide que es más grande que 25 metros pero más pequeña que 1000 metros golpeara la Tierra, causaría mucho daño.\n",
    "\n",
    "También discutimos en el ejercicio anterior que:\n",
    "\n",
    "* La velocidad del asteroide varía en función de lo cerca que esté del sol, y cualquier velocidad superior a 25 kilómetros por segundo (km/s) merece una advertencia.\n",
    "* Si un asteroide entra en la atmósfera de la Tierra a una velocidad mayor o igual a 20 km/s, a veces produce un rayo de luz que se puede ver desde la Tierra.\n",
    "\n",
    "Usando toda esta información, escribe un programa que emita la advertencia o información correcta a la gente de la Tierra, según la velocidad y el tamaño de un asteroide. Utiliza instrucciones `if`, `else`, y `elif`, así como los operadores `and` y `or`."
   ]
  },
  {
   "cell_type": "markdown",
   "metadata": {},
   "source": [
    "Solución 03"
   ]
  },
  {
   "cell_type": "code",
   "execution_count": 186,
   "metadata": {},
   "outputs": [
    {
     "name": "stdout",
     "output_type": "stream",
     "text": [
      "PELIGRO. ASTEROIDE PELIGROSO DIRIGIÉNDOSE A LA TIERRA\n"
     ]
    }
   ],
   "source": [
    "dimension_max_asteroide = 26\n",
    "vel_asteroide = 1\n",
    "\n",
    "if dimension_max_asteroide > 0 and vel_asteroide > 0:\n",
    "    if vel_asteroide > 25 or dimension_max_asteroide > 25:\n",
    "        print (\"PELIGRO. ASTEROIDE PELIGROSO DIRIGIÉNDOSE A LA TIERRA\")\n",
    "    elif vel_asteroide >= 20 and vel_asteroide <= 25:\n",
    "        print (\"Se puede ver un asteroide en el cielo\")\n",
    "    elif vel_asteroide < 20:\n",
    "        print (\"No es posible ver asteroides\")\n",
    "else:\n",
    "    print (\"No es posible ver asteroides en el cielo\")\n",
    "     "
   ]
  }
 ],
 "metadata": {
  "interpreter": {
   "hash": "1b0c838d993193beb0500702d954ec892a80d90b7070493e6b2cb6bd10c554a4"
  },
  "kernelspec": {
   "display_name": "Python 3.10.2 64-bit",
   "language": "python",
   "name": "python3"
  },
  "language_info": {
   "name": "python",
   "version": "3.10.2"
  },
  "orig_nbformat": 4
 },
 "nbformat": 4,
 "nbformat_minor": 2
}
