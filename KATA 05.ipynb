{
 "cells": [
  {
   "cell_type": "markdown",
   "metadata": {},
   "source": [
    "# KATA 05\n",
    "Ejercicio 1"
   ]
  },
  {
   "cell_type": "markdown",
   "metadata": {},
   "source": [
    "Exploremos cómo podemos crear un programa que pueda calcular la distancia entre dos planetas.  Comenzaremos usando dos distancias de planetas: Tierra (149.597.870 km) y Júpiter (778.547.200 km).\n"
   ]
  },
  {
   "cell_type": "code",
   "execution_count": 1,
   "metadata": {},
   "outputs": [],
   "source": [
    "earth_distance = 149597870\n",
    "jupiter_distance = 778547200\n"
   ]
  },
  {
   "cell_type": "markdown",
   "metadata": {},
   "source": [
    "### Realizar la operación\n",
    "Con los valores obtenidos, es el momento de añadir el código para realizar la operación. Restarás el primer planeta del segundo para determinar la distancia en kilómetros. A continuación, puedes convertir la distancia del kilómetro en millas multiplicándola por `0.621`."
   ]
  },
  {
   "cell_type": "code",
   "execution_count": 3,
   "metadata": {},
   "outputs": [
    {
     "name": "stdout",
     "output_type": "stream",
     "text": [
      "La distancia entre planetas es 628949330 kilómetros, equivalente a 390577534 millas \n"
     ]
    }
   ],
   "source": [
    "distance_difference = abs(earth_distance - jupiter_distance)\n",
    "km_difference = round(distance_difference)\n",
    "milles_difference = round((distance_difference*0.621))\n",
    "print(f\"La distancia entre planetas es {km_difference} kilómetros, equivalente a {milles_difference} millas \")"
   ]
  },
  {
   "cell_type": "markdown",
   "metadata": {},
   "source": [
    "## Ejercicio 2: convierte cadenas en números y usa valores absolutos\n",
    "\n",
    "### Crear una aplicación para trabajar con números y entrada de usuario\n",
    "\n",
    "### Lee los valores\n",
    "Usando `input`, agrega el código para leer la distancia del sol para cada planeta, considerando 2 planetas."
   ]
  },
  {
   "cell_type": "code",
   "execution_count": 20,
   "metadata": {},
   "outputs": [
    {
     "name": "stdout",
     "output_type": "stream",
     "text": [
      "Calculadora de distancia entre planetas:\n"
     ]
    }
   ],
   "source": [
    "print(\"Calculadora de distancia entre planetas:\")\n",
    "\n",
    "planet_1_name = input(\"Cuál es el nombre del planeta 1?\")\n",
    "planet_1_distance = input(\"Cuál es su distancia en kilómetros al sol?\")\n",
    "planet_2_name = input(\"Cuál es el nombre del planeta 2?\")\n",
    "planet_2_distance = input(\"Cuál es su distancia en kilómetros al sol?\")\n"
   ]
  },
  {
   "cell_type": "markdown",
   "metadata": {},
   "source": [
    "### Convertir a número\n",
    "Debido a que `input` devuelve valores de cadena, necesitamos convertirlos en números. Para nuestro ejemplo, usaremos `int`"
   ]
  },
  {
   "cell_type": "code",
   "execution_count": 21,
   "metadata": {},
   "outputs": [],
   "source": [
    "int_planet_1 = int(planet_1_distance)\n",
    "int_planet_2 = int(planet_2_distance)"
   ]
  },
  {
   "cell_type": "markdown",
   "metadata": {},
   "source": [
    "### Realizar el cálculo y convertir a valor absoluto\n",
    "\n",
    "Con los valores almacenados como números, ahora puedes agregar el código para realizar el cálculo, restando el primer planeta del segundo. Debido a que el segundo planeta podría ser un número mayor, usarás `abs` para convertirlo a un valor absoluto. También agregarás el código para mostrar el resultado en millas multiplicando la distancia del kilómetro por 0.621"
   ]
  },
  {
   "cell_type": "code",
   "execution_count": 29,
   "metadata": {},
   "outputs": [
    {
     "name": "stdout",
     "output_type": "stream",
     "text": [
      "La distancia entre Mercurio y Venus es de 50300000 kilómetros, equivalentes a 31236300 millas.\n"
     ]
    }
   ],
   "source": [
    "km_total_distance = abs(int_planet_1 - int_planet_2)\n",
    "milles_distance = round(km_total_distance* 0.621)\n",
    "\n",
    "km_total_distance = str(km_total_distance)\n",
    "milles_distance = str(milles_distance)\n",
    "print(f\"La distancia entre {planet_1_name} y {planet_2_name} es de {km_total_distance} kilómetros, equivalentes a {milles_distance} millas.\")\n",
    "\n"
   ]
  }
 ],
 "metadata": {
  "interpreter": {
   "hash": "1b0c838d993193beb0500702d954ec892a80d90b7070493e6b2cb6bd10c554a4"
  },
  "kernelspec": {
   "display_name": "Python 3.10.2 64-bit",
   "language": "python",
   "name": "python3"
  },
  "language_info": {
   "codemirror_mode": {
    "name": "ipython",
    "version": 3
   },
   "file_extension": ".py",
   "mimetype": "text/x-python",
   "name": "python",
   "nbconvert_exporter": "python",
   "pygments_lexer": "ipython3",
   "version": "3.10.2"
  },
  "orig_nbformat": 4
 },
 "nbformat": 4,
 "nbformat_minor": 2
}
